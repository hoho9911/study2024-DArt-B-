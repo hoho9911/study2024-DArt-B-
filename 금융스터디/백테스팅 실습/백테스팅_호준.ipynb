{
 "cells": [
  {
   "cell_type": "code",
   "execution_count": null,
   "metadata": {},
   "outputs": [
    {
     "ename": "",
     "evalue": "",
     "output_type": "error",
     "traceback": [
      "\u001b[1;31m커널을 시작하지 못했습니다. \n",
      "\u001b[1;31m커널 'Python 3.12.7'을(를) 시작하지 못했습니다. \n",
      "\u001b[1;31m자세한 내용은 Jupyter <a href='command:jupyter.viewOutput'>로그</a>을 참조하세요. listen EFAULT: bad address in system call argument 192.168.0.26:9000"
     ]
    }
   ],
   "source": [
    "!pip install bt"
   ]
  }
 ],
 "metadata": {
  "kernelspec": {
   "display_name": "Python 3",
   "language": "python",
   "name": "python3"
  },
  "language_info": {
   "name": "python",
   "version": "3.12.7"
  }
 },
 "nbformat": 4,
 "nbformat_minor": 2
}
